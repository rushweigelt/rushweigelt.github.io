{
  "nbformat": 4,
  "nbformat_minor": 0,
  "metadata": {
    "colab": {
      "name": "Naive_Bayes.ipynb",
      "provenance": [],
      "collapsed_sections": [],
      "authorship_tag": "ABX9TyN9P+8rB4FzKlddiHsUquBm",
      "include_colab_link": true
    },
    "kernelspec": {
      "name": "python3",
      "display_name": "Python 3"
    }
  },
  "cells": [
    {
      "cell_type": "markdown",
      "metadata": {
        "id": "view-in-github",
        "colab_type": "text"
      },
      "source": [
        "<a href=\"https://colab.research.google.com/github/rushweigelt/rushweigelt.github.io/blob/master/Naive_Bayes.ipynb\" target=\"_parent\"><img src=\"https://colab.research.google.com/assets/colab-badge.svg\" alt=\"Open In Colab\"/></a>"
      ]
    },
    {
      "cell_type": "code",
      "metadata": {
        "id": "InTsMIS68UqR",
        "colab_type": "code",
        "colab": {
          "base_uri": "https://localhost:8080/",
          "height": 207
        },
        "outputId": "9094454e-0ee3-4b58-c55d-a9453d8c3420"
      },
      "source": [
        "pip install sklearn-porter"
      ],
      "execution_count": 3,
      "outputs": [
        {
          "output_type": "stream",
          "text": [
            "Collecting sklearn-porter\n",
            "\u001b[?25l  Downloading https://files.pythonhosted.org/packages/4e/b3/0d9f2b0800bc63b96dc9f707e3ec7565f49e4fba4fc0baf78cc61da0666f/sklearn_porter-0.7.4-py3-none-any.whl (144kB)\n",
            "\u001b[K     |████████████████████████████████| 153kB 2.8MB/s \n",
            "\u001b[?25hRequirement already satisfied: scikit-learn>=0.14.1 in /usr/local/lib/python3.6/dist-packages (from sklearn-porter) (0.22.1)\n",
            "Requirement already satisfied: six in /usr/local/lib/python3.6/dist-packages (from sklearn-porter) (1.12.0)\n",
            "Requirement already satisfied: joblib>=0.11 in /usr/local/lib/python3.6/dist-packages (from scikit-learn>=0.14.1->sklearn-porter) (0.14.1)\n",
            "Requirement already satisfied: scipy>=0.17.0 in /usr/local/lib/python3.6/dist-packages (from scikit-learn>=0.14.1->sklearn-porter) (1.4.1)\n",
            "Requirement already satisfied: numpy>=1.11.0 in /usr/local/lib/python3.6/dist-packages (from scikit-learn>=0.14.1->sklearn-porter) (1.17.5)\n",
            "Installing collected packages: sklearn-porter\n",
            "Successfully installed sklearn-porter-0.7.4\n"
          ],
          "name": "stdout"
        }
      ]
    },
    {
      "cell_type": "code",
      "metadata": {
        "id": "y_WV8qI89vjR",
        "colab_type": "code",
        "colab": {}
      },
      "source": [
        "from sklearn.naive_bayes import GaussianNB, BernoulliNB\n",
        "from sklearn.model_selection import cross_validate, train_test_split, KFold\n",
        "from sklearn.preprocessing import MinMaxScaler\n",
        "import pandas as pd\n",
        "import seaborn as sb\n",
        "from sklearn import metrics\n",
        "import json\n",
        "from sklearn_porter import Porter"
      ],
      "execution_count": 0,
      "outputs": []
    },
    {
      "cell_type": "code",
      "metadata": {
        "id": "V7ufT5Ub8d1j",
        "colab_type": "code",
        "colab": {}
      },
      "source": [
        "url = 'https://raw.githubusercontent.com/rushweigelt/rushweigelt.github.io/master/TaT/data/combined_multi_bot_and_genuine_150.0k_split.csv'"
      ],
      "execution_count": 0,
      "outputs": []
    },
    {
      "cell_type": "code",
      "metadata": {
        "id": "Fj0wfOdX8iHw",
        "colab_type": "code",
        "colab": {}
      },
      "source": [
        "def r_GaussianNB(data_path):\n",
        "    #load data from URL, create x and y, then split into test-train sets\n",
        "    data = pd.read_csv(data_path)\n",
        "    data.fillna(0, inplace=True)\n",
        "    x = data[['followerscount', 'friendscount', 'replycount', 'likecount', 'retweetcount', 'hashtagcount', 'urlcount', 'mentioncount']]\n",
        "    y = data['label']\n",
        "    x_train, x_test, y_train, y_test = train_test_split(x, y, test_size=.35,  random_state=0)\n",
        "    #call and fit model\n",
        "    model = GaussianNB()\n",
        "    model = model.fit(x_train, y_train)\n",
        "    #Make Predictions from split test data, print and heat-map confusion matrix for results\n",
        "    y_predict = model.predict(x_test)\n",
        "    confusion_matrix = pd.crosstab(y_test, y_predict, rownames=['Actual'], colnames=['Predicted'])\n",
        "    print(confusion_matrix)\n",
        "    matrix = sb.heatmap(confusion_matrix, annot=True)\n",
        "    print('Accuracy: ', metrics.accuracy_score(y_test, y_predict))\n",
        "    #Save model\n",
        "    porter = Porter(model, language='js')\n",
        "    output = porter.export(embed_data=True)\n",
        "    print(output)"
      ],
      "execution_count": 0,
      "outputs": []
    },
    {
      "cell_type": "code",
      "metadata": {
        "id": "6r9yFyfDALts",
        "colab_type": "code",
        "colab": {}
      },
      "source": [
        "def r_BernoulliNB(data_path):\n",
        "    data = pd.read_csv(data_path)\n",
        "    data.fillna(0, inplace=True)\n",
        "    x = data[['followerscount', 'friendscount', 'replycount', 'likecount', 'retweetcount', 'hashtagcount', 'urlcount', 'mentioncount']]\n",
        "    y = data['label']\n",
        "    x_train, x_test, y_train, y_test = train_test_split(x, y, test_size=.35,  random_state=0)\n",
        "    model = BernoulliNB()\n",
        "    model = model.fit(x_train, y_train)\n",
        "    y_predict = model.predict(x_test)\n",
        "    #print(\"Number of mislabeled points of of a total {} points : {}\".format(x_test.shape[0], (y_test != y_pred).sum()))\n",
        "    confusion_matrix = pd.crosstab(y_test, y_predict, rownames=['Actual'], colnames=['Predicted'])\n",
        "    print(confusion_matrix)\n",
        "    matrix = sb.heatmap(confusion_matrix, annot=True)\n",
        "\n",
        "    print('Accuracy: ', metrics.accuracy_score(y_test, y_predict))"
      ],
      "execution_count": 0,
      "outputs": []
    },
    {
      "cell_type": "code",
      "metadata": {
        "id": "SbwwuB0e9GFT",
        "colab_type": "code",
        "colab": {
          "base_uri": "https://localhost:8080/",
          "height": 1000
        },
        "outputId": "0f845774-1926-4a01-9ebc-17fa60063e6a"
      },
      "source": [
        "r_GaussianNB(url)\n"
      ],
      "execution_count": 56,
      "outputs": [
        {
          "output_type": "stream",
          "text": [
            "/usr/local/lib/python3.6/dist-packages/IPython/core/interactiveshell.py:2828: DtypeWarning: Columns (0,8) have mixed types. Specify dtype option on import or set low_memory=False.\n",
            "  if self.run_code(code, result):\n"
          ],
          "name": "stderr"
        },
        {
          "output_type": "stream",
          "text": [
            "Predicted    bot  genuine\n",
            "Actual                   \n",
            "bot        30297    22286\n",
            "genuine     1539    50878\n",
            "Accuracy:  0.7730952380952381\n",
            "var GaussianNB = function(priors, sigmas, thetas) {\n",
            "\n",
            "    this.priors = priors;\n",
            "    this.sigmas = sigmas;\n",
            "    this.thetas = thetas;\n",
            "\n",
            "    this.predict = function(features) {\n",
            "        var likelihoods = new Array(this.sigmas.length);\n",
            "    \n",
            "        for (var i = 0, il = this.sigmas.length; i < il; i++) {\n",
            "            var sum = 0.;\n",
            "            for (var j = 0, jl = this.sigmas[0].length; j < jl; j++) {\n",
            "                sum += Math.log(2. * Math.PI * this.sigmas[i][j]);\n",
            "            }\n",
            "            var nij = -0.5 * sum;\n",
            "            sum = 0.;\n",
            "            for (var j = 0, jl = this.sigmas[0].length; j < jl; j++) {\n",
            "                sum += Math.pow(features[j] - this.thetas[i][j], 2.) / this.sigmas[i][j];\n",
            "            }\n",
            "            nij -= 0.5 * sum;\n",
            "            likelihoods[i] = Math.log(this.priors[i]) + nij;\n",
            "        }\n",
            "    \n",
            "        var classIdx = 0;\n",
            "        for (var i = 0, l = likelihoods.length; i < l; i++) {\n",
            "            classIdx = likelihoods[i] > likelihoods[classIdx] ? i : classIdx;\n",
            "        }\n",
            "        return classIdx;\n",
            "    };\n",
            "\n",
            "};\n",
            "\n",
            "if (typeof process !== 'undefined' && typeof process.argv !== 'undefined') {\n",
            "    if (process.argv.length - 2 === 8) {\n",
            "\n",
            "        // Features:\n",
            "        var features = process.argv.slice(2);\n",
            "\n",
            "        // Parameters:\n",
            "        var priors = [0.499574358974359, 0.500425641025641];\n",
            "        var sigmas = [[325477746.5801683, 44719024.745114736, 15.397794047610583, 13942.172251175227, 1845.930163039415, 4.773956450685417, 0.44157080989097064, 0.4089454328003829], [18858696.75565271, 392257.6492173077, 0.19340899093500433, 4.303474429219202, 181935524.11162433, 0.6317605919903297, 0.35464204395795607, 0.9507778244826861]];\n",
            "        var thetas = [[10839.319718324317, 5163.905950706756, 0.3815555806481415, 7.4244946980506485, 2.6733937608425635, 1.0734676699138754, 0.33085601075787596, 0.31003828900499913], [1593.500210077575, 753.8926349876515, 0.0, 0.44086572456268, 595.336861953414, 0.24338255638789544, 0.19248229712142484, 0.8425647909984321]];\n",
            "\n",
            "        // Estimator:\n",
            "        var clf = new GaussianNB(priors, sigmas, thetas);\n",
            "        var prediction = clf.predict(features);\n",
            "        console.log(prediction);\n",
            "\n",
            "    }\n",
            "}\n"
          ],
          "name": "stdout"
        },
        {
          "output_type": "display_data",
          "data": {
            "image/png": "[encoded data removed]",
            "text/plain": [
              "<Figure size 432x288 with 2 Axes>"
            ]
          },
          "metadata": {
            "tags": []
          }
        }
      ]
    },
    {
      "cell_type": "code",
      "metadata": {
        "id": "GSzpBEoBAc0s",
        "colab_type": "code",
        "colab": {}
      },
      "source": [
        "def CompareSupportedBayesModels(data_path):\n",
        "  print('RESULTS FROM BERNOULLI MODEL')\n",
        "  r_BernoulliNB(url)\n",
        "  print('\\n\\nRESULTS FROM GAUSSIAN MODEL')\n",
        "  r_GaussianNB(url)"
      ],
      "execution_count": 0,
      "outputs": []
    },
    {
      "cell_type": "code",
      "metadata": {
        "id": "MMxqVhbAAyyS",
        "colab_type": "code",
        "colab": {
          "base_uri": "https://localhost:8080/",
          "height": 573
        },
        "outputId": "c906d9ec-6253-4c35-9993-18b010f7dc1f"
      },
      "source": [
        "CompareSupportedBayesModels(url)"
      ],
      "execution_count": 49,
      "outputs": [
        {
          "output_type": "stream",
          "text": [
            "RESULTS FROM BERNOULLI MODEL\n"
          ],
          "name": "stdout"
        },
        {
          "output_type": "stream",
          "text": [
            "/usr/local/lib/python3.6/dist-packages/IPython/core/interactiveshell.py:2882: DtypeWarning: Columns (0,8) have mixed types. Specify dtype option on import or set low_memory=False.\n",
            "  exec(code_obj, self.user_global_ns, self.user_ns)\n"
          ],
          "name": "stderr"
        },
        {
          "output_type": "stream",
          "text": [
            "Predicted    bot  genuine\n",
            "Actual                   \n",
            "bot        42372    10211\n",
            "genuine    19239    33178\n",
            "Accuracy:  0.7195238095238096\n",
            "/n/nRESULTS FROM GAUSSIAN MODEL\n"
          ],
          "name": "stdout"
        },
        {
          "output_type": "stream",
          "text": [
            "/usr/local/lib/python3.6/dist-packages/IPython/core/interactiveshell.py:2882: DtypeWarning: Columns (0,8) have mixed types. Specify dtype option on import or set low_memory=False.\n",
            "  exec(code_obj, self.user_global_ns, self.user_ns)\n"
          ],
          "name": "stderr"
        },
        {
          "output_type": "stream",
          "text": [
            "Predicted    bot  genuine\n",
            "Actual                   \n",
            "bot        30297    22286\n",
            "genuine     1539    50878\n",
            "Accuracy:  0.7730952380952381\n"
          ],
          "name": "stdout"
        },
        {
          "output_type": "display_data",
          "data": {
            "image/png": "[encoded data removed]",
            "text/plain": [
              "<Figure size 432x288 with 3 Axes>"
            ]
          },
          "metadata": {
            "tags": []
          }
        }
      ]
    }
  ]
}